{
 "cells": [
  {
   "metadata": {},
   "cell_type": "markdown",
   "source": [
    "# Flask Integration\n",
    "\n",
    "This jupyter notebook showcase an example on how to integrate your 'Agent' with a flask server."
   ],
   "id": "13ee3683b627882"
  },
  {
   "metadata": {},
   "cell_type": "markdown",
   "source": [
    "Let's build an echo `Agent` returning the last message received.\n",
    "\n",
    "First of all we need to define a function taking as input an `ExecuteRequest` and returning an `ExecuteResponse`.\n",
    "We can then retrieve all the information we need from the request argument to build our response."
   ],
   "id": "8c6b6ac23f4b90f9"
  },
  {
   "metadata": {},
   "cell_type": "code",
   "source": [
    "from flask import Flask\n",
    "\n",
    "from theoriq.execute import ExecuteRequest, ExecuteResponse\n",
    "from theoriq.schemas import DialogItem, DialogItemBlock\n",
    "from datetime import datetime, timezone\n",
    "\n",
    "def echo_agent(req: ExecuteRequest) -> ExecuteResponse:\n",
    "    # Retrieve the last message of the dialog\n",
    "    dialog_item = req.body.items[-1]\n",
    "    data = dialog_item.items[0].data\n",
    "    \n",
    "    # Let's return this data as our response\n",
    "    response_body = DialogItem(\n",
    "        timestamp=datetime.now(timezone.utc).isoformat(),\n",
    "        source=\"My Echo Agent\",\n",
    "        sourceType=\"Agent\",\n",
    "        items=[DialogItemBlock(type=\"text\", data=data)],\n",
    "    )\n",
    "    return ExecuteResponse(response_body)"
   ],
   "id": "1a9e26ca990e271e",
   "outputs": [],
   "execution_count": null
  },
  {
   "metadata": {},
   "cell_type": "markdown",
   "source": "Now that we have our 'execute' function ready, we can integrate it with the `theoriq` flask helpers to start a `theoriq` compliant flask server.",
   "id": "4a575c7a733ba972"
  },
  {
   "metadata": {},
   "cell_type": "code",
   "source": [
    "# First let's create an AgentConfig\n",
    "from theoriq.agent import AgentConfig\n",
    "from biscuit_auth import KeyPair \n",
    "from theoriq_extra.flask import theoriq_blueprint\n",
    "\n",
    "agent_config = AgentConfig(\n",
    "    theoriq_public_key=KeyPair().public_key,\n",
    "    agent_kp=KeyPair()\n",
    ")\n",
    "\n",
    "# Now we can use the flask helpers to create a 'BluePrint' with all the routes needed for our agent.\n",
    "theoriq_routes = theoriq_blueprint(agent_config, echo_agent)"
   ],
   "id": "4ba76b550b1f7250",
   "outputs": [],
   "execution_count": null
  },
  {
   "metadata": {},
   "cell_type": "markdown",
   "source": [
    "The created blueprint will contain the following endpoints:\n",
    "- `/theoriq/api/v1alpha1/system/challenge` (See the challenge documentation for more explanation).\n",
    "- `/theoriq/api/v1alpha1/execute` (Wrapper around the given 'execute' function).\n",
    "- `/api/v1alpha1/behaviors/chat-completions` (Same functionality as the `execute` endpoint`; used for backward compatibility)\n",
    "\n",
    "You can register this blueprint inside your flask application, and you'll be ready to go with the `theoriq` protocol!"
   ],
   "id": "156583c17cbecfc3"
  },
  {
   "metadata": {},
   "cell_type": "code",
   "source": [
    "app = Flask(__name__)\n",
    "app.register_blueprint(theoriq_routes)\n",
    "app.run(\"0.0.0.0\", 5757)"
   ],
   "id": "c234d42dd0549dc",
   "outputs": [],
   "execution_count": null
  }
 ],
 "metadata": {
  "kernelspec": {
   "display_name": "Python 3",
   "language": "python",
   "name": "python3"
  },
  "language_info": {
   "codemirror_mode": {
    "name": "ipython",
    "version": 2
   },
   "file_extension": ".py",
   "mimetype": "text/x-python",
   "name": "python",
   "nbconvert_exporter": "python",
   "pygments_lexer": "ipython2",
   "version": "2.7.6"
  }
 },
 "nbformat": 4,
 "nbformat_minor": 5
}
